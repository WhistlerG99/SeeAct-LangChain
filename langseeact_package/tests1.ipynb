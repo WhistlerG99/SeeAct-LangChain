{
 "cells": [
  {
   "cell_type": "code",
   "execution_count": 1,
   "metadata": {},
   "outputs": [],
   "source": [
    "import os\n",
    "from textwrap import wrap"
   ]
  },
  {
   "cell_type": "code",
   "execution_count": 2,
   "metadata": {},
   "outputs": [],
   "source": [
    "from importlib import reload"
   ]
  },
  {
   "cell_type": "code",
   "execution_count": 117,
   "metadata": {},
   "outputs": [
    {
     "data": {
      "text/plain": [
       "<module 'langseeact.prompt' from '/Users/csg/git-work/SeeAct-LangChain/scratch/langseeact/prompt.py'>"
      ]
     },
     "execution_count": 117,
     "metadata": {},
     "output_type": "execute_result"
    }
   ],
   "source": [
    "reload(langseeact)\n",
    "reload(langseeact.tools)\n",
    "reload(langseeact.prompt)"
   ]
  },
  {
   "cell_type": "code",
   "execution_count": null,
   "metadata": {},
   "outputs": [],
   "source": []
  },
  {
   "cell_type": "code",
   "execution_count": 118,
   "metadata": {},
   "outputs": [],
   "source": [
    "from langchain_core.messages import HumanMessage, SystemMessage, AIMessage\n",
    "from langchain_core.prompts import (\n",
    "    ChatPromptTemplate,\n",
    "    HumanMessagePromptTemplate,\n",
    "    SystemMessagePromptTemplate,\n",
    "    AIMessagePromptTemplate,\n",
    ")\n",
    "from langchain_core.prompts import ChatPromptTemplate\n",
    "from langchain_openai import ChatOpenAI"
   ]
  },
  {
   "cell_type": "code",
   "execution_count": 121,
   "metadata": {},
   "outputs": [],
   "source": [
    "from langseeact.tools import generate_option_name\n",
    "from langseeact.browser_helper import select_option\n",
    "from langseeact.format_prompt import format_choices\n",
    "from langseeact.format_prompt_utils import (\n",
    "    format_options,\n",
    "    generate_new_query_prompt,\n",
    "    generate_new_referring_prompt,\n",
    ")\n",
    "from langseeact.prompt import PromptMaker, generate_prompt_template"
   ]
  },
  {
   "cell_type": "code",
   "execution_count": null,
   "metadata": {},
   "outputs": [],
   "source": []
  },
  {
   "cell_type": "code",
   "execution_count": 120,
   "metadata": {},
   "outputs": [],
   "source": [
    "import logging\n",
    "import textwrap\n",
    "import langseeact\n",
    "from langseeact.tools import Browser\n",
    "import base64"
   ]
  },
  {
   "cell_type": "code",
   "execution_count": null,
   "metadata": {},
   "outputs": [],
   "source": []
  },
  {
   "cell_type": "code",
   "execution_count": 6,
   "metadata": {},
   "outputs": [],
   "source": [
    "def encode_image(image_path):\n",
    "    with open(image_path, \"rb\") as image_file:\n",
    "        return base64.b64encode(image_file.read()).decode('utf-8')"
   ]
  },
  {
   "cell_type": "code",
   "execution_count": 7,
   "metadata": {},
   "outputs": [],
   "source": [
    "def _setup_logger(main_path=None, redirect_to_dev_log=False):\n",
    "    \"\"\"Set up a logger to log to both file and console within the main_path.\"\"\"\n",
    "    logger_name = 'SeeActAgent'\n",
    "    logger = logging.getLogger(logger_name)\n",
    "    logger.setLevel(logging.INFO)\n",
    "    if not logger.handlers:  # Avoid adding handlers multiple times\n",
    "        # Create a file handler for writing logs to a file\n",
    "        if main_path:\n",
    "            log_filename = 'agent.log'\n",
    "            f_handler = logging.FileHandler(os.path.join(main_path, log_filename))\n",
    "            f_handler.setLevel(logging.INFO)\n",
    "\n",
    "            file_formatter = logging.Formatter('%(asctime)s - %(message)s')\n",
    "\n",
    "            f_handler.setFormatter(file_formatter)\n",
    "\n",
    "            logger.addHandler(f_handler)\n",
    "\n",
    "        # Create a console handler for printing logs to the terminal\n",
    "        c_handler = logging.StreamHandler()\n",
    "        c_handler.setLevel(logging.INFO)\n",
    "\n",
    "        # Create formatters for file and console handlers\n",
    "        console_formatter = logging.Formatter('%(message)s')\n",
    "\n",
    "        # Set formatters for file and console handlers\n",
    "        c_handler.setFormatter(console_formatter)\n",
    "\n",
    "        # Add the handlers to the logger\n",
    "        if not redirect_to_dev_log:  # Only add console handler if not redirecting to dev log\n",
    "            logger.addHandler(c_handler)\n",
    "\n",
    "    return logger"
   ]
  },
  {
   "cell_type": "code",
   "execution_count": 77,
   "metadata": {},
   "outputs": [],
   "source": [
    "llm = ChatOpenAI(\n",
    "    temperature=0,\n",
    "    model=\"gpt-4o\",\n",
    "    stop=[\"\\nObservation\", \"Observation\"]\n",
    ")"
   ]
  },
  {
   "cell_type": "code",
   "execution_count": 8,
   "metadata": {},
   "outputs": [],
   "source": [
    "logger = _setup_logger()"
   ]
  },
  {
   "cell_type": "code",
   "execution_count": 9,
   "metadata": {},
   "outputs": [],
   "source": [
    "browser = langseeact.tools.Browser(logger=logger)"
   ]
  },
  {
   "cell_type": "code",
   "execution_count": 10,
   "metadata": {},
   "outputs": [
    {
     "name": "stderr",
     "output_type": "stream",
     "text": [
      "Loaded website: https://www.google.com/\n"
     ]
    }
   ],
   "source": [
    "await browser.start()"
   ]
  },
  {
   "cell_type": "code",
   "execution_count": 11,
   "metadata": {},
   "outputs": [],
   "source": [
    "elements = await browser.get_current_page_elements()"
   ]
  },
  {
   "cell_type": "code",
   "execution_count": 13,
   "metadata": {},
   "outputs": [],
   "source": [
    "choices = format_choices(elements)\n",
    "options = format_options(choices)"
   ]
  },
  {
   "cell_type": "code",
   "execution_count": 57,
   "metadata": {},
   "outputs": [
    {
     "name": "stdout",
     "output_type": "stream",
     "text": [
      "If none of these elements match your target element or your target action doesn't involve an element, please select U.\n",
      "A. (0.035, 0.042) <a\">About</a>\n",
      "B. (0.078, 0.042) <a\">Store</a>\n",
      "C. (0.801, 0.042) <a\">Gmail</a>\n",
      "D. (0.843, 0.042) <a\">Images</a>\n",
      "E. (0.946, 0.042) <a\">Sign in</a>\n",
      "F. (0.887, 0.043) <a role=\"button\"\">aria-label=\"Google apps\"</a>\n",
      "G. (0.831, 0.235) <iframe role=\"presentation\"\">name=\"callout\"</iframe>\n",
      "H. (0.5, 0.242) <img\">alt=\"Google\"</img>\n",
      "I. (0.482, 0.375) <textarea role=\"combobox\"\">aria-label=\"Search\" name=\"q\" title=\"Search\"</textarea>\n",
      "J. (0.44, 0.474) <input role=\"button\" type=\"submit\"\">aria-label=\"Google Search\" name=\"btnK\" value=\"Google Search\"</input>\n",
      "K. (0.554, 0.474) <input role=\"button\" type=\"submit\"\">aria-label=\"I'm Feeling Lucky\" name=\"btnI\" value=\"I'm Feeling Lucky\"</input>\n",
      "L. (0.5, 0.5) <html\">About Store GmailImages Sign in Advertising Business How Search works Our third decade of climate action: join us Privacy Terms Settings</html>\n",
      "M. (0.397, 0.965) <img\">parent_node: Our third decade of climate action: join...</img>\n",
      "N. (0.054, 0.967) <a\">Advertising</a>\n",
      "O. (0.127, 0.967) <a\">Business</a>\n",
      "P. (0.218, 0.967) <a\">How Search works</a>\n",
      "Q. (0.5, 0.967) <a\">Our third decade of climate action: join us</a>\n",
      "R. (0.839, 0.967) <a\">Privacy</a>\n",
      "S. (0.895, 0.967) <a\">Terms</a>\n",
      "T. (0.953, 0.967) <g-popup\">Settings</g-popup>\n",
      "U. None of the other options match the correct element or the action doesn't involve an element.\n",
      "\n",
      "\n"
     ]
    }
   ],
   "source": [
    "print(choice_text)"
   ]
  },
  {
   "cell_type": "code",
   "execution_count": 15,
   "metadata": {},
   "outputs": [],
   "source": [
    "choice_text = format_options(choices)"
   ]
  },
  {
   "cell_type": "code",
   "execution_count": 55,
   "metadata": {},
   "outputs": [
    {
     "data": {
      "text/plain": [
       "'If none of these elements match your target element or your target action doesn\\'t involve an element, please select U.\\nA. (0.035, 0.042) <a\">About</a>\\nB. (0.078, 0.042) <a\">Store</a>\\nC. (0.801, 0.042) <a\">Gmail</a>\\nD. (0.843, 0.042) <a\">Images</a>\\nE. (0.946, 0.042) <a\">Sign in</a>\\nF. (0.887, 0.043) <a role=\"button\"\">aria-label=\"Google apps\"</a>\\nG. (0.831, 0.235) <iframe role=\"presentation\"\">name=\"callout\"</iframe>\\nH. (0.5, 0.242) <img\">alt=\"Google\"</img>\\nI. (0.482, 0.375) <textarea role=\"combobox\"\">aria-label=\"Search\" name=\"q\" title=\"Search\"</textarea>\\nJ. (0.44, 0.474) <input role=\"button\" type=\"submit\"\">aria-label=\"Google Search\" name=\"btnK\" value=\"Google Search\"</input>\\nK. (0.554, 0.474) <input role=\"button\" type=\"submit\"\">aria-label=\"I\\'m Feeling Lucky\" name=\"btnI\" value=\"I\\'m Feeling Lucky\"</input>\\nL. (0.5, 0.5) <html\">About Store GmailImages Sign in Advertising Business How Search works Our third decade of climate action: join us Privacy Terms Settings</html>\\nM. (0.397, 0.965) <img\">parent_node: Our third decade of climate action: join...</img>\\nN. (0.054, 0.967) <a\">Advertising</a>\\nO. (0.127, 0.967) <a\">Business</a>\\nP. (0.218, 0.967) <a\">How Search works</a>\\nQ. (0.5, 0.967) <a\">Our third decade of climate action: join us</a>\\nR. (0.839, 0.967) <a\">Privacy</a>\\nS. (0.895, 0.967) <a\">Terms</a>\\nT. (0.953, 0.967) <g-popup\">Settings</g-popup>\\nU. None of the other options match the correct element or the action doesn\\'t involve an element.\\n\\n'"
      ]
     },
     "execution_count": 55,
     "metadata": {},
     "output_type": "execute_result"
    }
   ],
   "source": [
    "choice_text"
   ]
  },
  {
   "cell_type": "code",
   "execution_count": null,
   "metadata": {},
   "outputs": [],
   "source": []
  },
  {
   "cell_type": "code",
   "execution_count": 47,
   "metadata": {},
   "outputs": [],
   "source": [
    "prompt_maker = PromptMaker()"
   ]
  },
  {
   "cell_type": "code",
   "execution_count": 113,
   "metadata": {},
   "outputs": [
    {
     "data": {
      "text/plain": [
       "{'system_prompt': 'You are assisting humans doing web navigation tasks step by step. At each stage, you can see the webpage by a screenshot and know the previous actions before the current step decided by yourself that have been executed for this task through recorded history. You need to decide on the first following action to take.',\n",
       " 'action_space': '\\n    Here are the descriptions of all allowed actions:\\n\\n    No Value Operations:\\n    - CLICK: Click on a webpage element using the mouse.\\n    - HOVER: Move the mouse over a webpage element without clicking.\\n    - PRESS ENTER: Press the Enter key, typically to submit a form or confirm an input.\\n    - SCROLL UP: Scroll the webpage upwards by half of the window height.\\n    - SCROLL DOWN: Scroll the webpage downwards by half of the window height.\\n    - PRESS HOME: Scroll to the top of the webpage.\\n    - PRESS END: Scroll to the bottom of the webpage.\\n    - PRESS PAGEUP: Scroll up by one window height.\\n    - PRESS PAGEDOWN: Scroll down by one window height.\\n    - CLOSE TAB: Close the current tab in the browser.\\n    - NEW TAB: Open a new tab in the browser.\\n    - GO BACK: Navigate to the previous page in the browser history.\\n    - GO FORWARD: Navigate to the next page in the browser history.\\n    - TERMINATE: End the current task, typically used when the task is considered complete or requires potentially harmful actions.\\n    - NONE: Indicates that no action is necessary at this stage. Used to skip an action or wait.\\n\\n    With Value Operations:\\n    - SELECT: Choose an option from a dropdown menu or <select> element. The value indicates the option to select.\\n    - TYPE: Enter text into a text area or text box. The value is the text to be typed.\\n    - GOTO: Navigate to a specific URL. The value is the URL to navigate to.\\n    - SAY: Output answers or other information you want to tell the user.\\n    - MEMORIZE: Keep some content into action history to memorize it.\\n    ',\n",
       " 'question_description': \"The screenshot below shows the webpage you see. Think step by step before outlining the next action step at the current stage. Clearly outline which element in the webpage users will operate with as the first next target element, its detailed location, and the corresponding operation.\\n\\n    To be successful, it is important to follow the following rules: \\n    1. You should only issue a valid action given the current observation. \\n    2. You should only issue one action at a time\\n    3. For handling the select dropdown elements on the webpage, it's not necessary for you to provide completely accurate options right now. The full list of options for these elements will be supplied later.\\n    4. Unlike humans, for typing (e.g., in text areas, text boxes) and selecting (e.g., from dropdown menus or <select> elements), you should try directly typing the input or selecting the choice, bypassing the need for an initial click. \\n    5. You should not attempt to create accounts, log in or do the final submission. \\n    6. Terminate when you deem the task complete or if it requires potentially harmful actions.\\n    7. Do not generate same action as the previous one, try different ways if keep failing\\n    8. When there is a floating banner like ads, login, or survey floating taking more than 30% of the page, close the floating banner to proceed, the close button could look like a x on the right top corner, or choose NO THANKS to close it.\\n    9. When there is a floating banner on top or bottom of the page like cookie policy taking less than 30% of the page, ignore the banner to proceed.  \\n    10. After typing text into search or text input area, the next action is normally PRESS ENTER\\n    11. When there are bouding boxes in the screenshot, interact with the elements in the bounding boxes\\n    12. When there are multiple clickable buttons having the same value, choose the one with less obstacles in the screenshot.\\n    \",\n",
       " 'referring_description': '(Reiteration)\\n    First, reiterate your next target element, its detailed location, and the corresponding operation.\\n\\n    (Multichoice Question)\\n    Below is a multi-choice question, where the choices are elements in the webpage. All elements are arranged in the order based on their height on the webpage, from top to bottom (and from left to right). This arrangement in addition to the normalized coordinates can be used to locate them. From the screenshot, find out where and what each one is on the webpage, taking into account both their text content and HTML details. Then, determine whether one matches your target element if your action involves an element. Please examine the choices one by one. Choose the matching one. If multiple options match your answer, choose the most likely one by re-examining the screenshot, the choices, and your further reasoning.',\n",
       " 'element_format': '(Final Answer)\\n    Finally, conclude your answer using the format below. Ensure your answer is strictly adhering to the format provided below. Please do not leave any explanation in your answers of the final standardized format part, and this final part should be clear and certain. The element choice, action, and value should be in three separate lines.\\n\\n    Format:\\n\\n    ELEMENT: The uppercase letter of your choice.',\n",
       " 'action_format': 'ACTION: Choose an action from allowed actions.',\n",
       " 'value_format': 'VALUE: Provide additional input based on ACTION. (If it doesn\\'t involve a value, write \"None\"'}"
      ]
     },
     "execution_count": 113,
     "metadata": {},
     "output_type": "execute_result"
    }
   ],
   "source": [
    "PromptMaker()._initialize_prompts()[\"system_prompt\"]"
   ]
  },
  {
   "cell_type": "code",
   "execution_count": 22,
   "metadata": {},
   "outputs": [],
   "source": [
    "task = 'open a tab and go to the site \"www.amazon.com\"'"
   ]
  },
  {
   "cell_type": "code",
   "execution_count": 33,
   "metadata": {},
   "outputs": [
    {
     "data": {
      "text/plain": [
       "True"
      ]
     },
     "execution_count": 33,
     "metadata": {},
     "output_type": "execute_result"
    }
   ],
   "source": [
    "prompt_maker.generate_prompt(\"{task}\",None,choices)[0] == prompts[\"system_prompt\"] + \"\\n\" + prompts[\"action_space\"]"
   ]
  },
  {
   "cell_type": "code",
   "execution_count": null,
   "metadata": {},
   "outputs": [],
   "source": [
    "# System Prompt\n",
    "query_text += \"You are asked to complete the following task: \"\n",
    "\n",
    "# Task Description\n",
    "query_text += task\n",
    "query_text += \"\\n\\n\"\n",
    "\n",
    "# Previous Actions\n",
    "previous_action_text = \"Previous Actions:\\n\"\n",
    "if previous_actions is None:\n",
    "    previous_actions = []\n",
    "for action_text in previous_actions:\n",
    "    previous_action_text += action_text\n",
    "    previous_action_text += \"\\n\"\n",
    "query_text += previous_action_text\n",
    "query_text += \"\\n\""
   ]
  },
  {
   "cell_type": "code",
   "execution_count": 38,
   "metadata": {},
   "outputs": [
    {
     "name": "stdout",
     "output_type": "stream",
     "text": [
      "The screenshot below shows the webpage you see. Think step by step before outlining the next action step at the current stage. Clearly outline which element in the webpage users will operate with as the first next target element, its detailed location, and the corresponding operation.\n",
      "\n",
      "    To be successful, it is important to follow the following rules: \n",
      "    1. You should only issue a valid action given the current observation. \n",
      "    2. You should only issue one action at a time\n",
      "    3. For handling the select dropdown elements on the webpage, it's not necessary for you to provide completely accurate options right now. The full list of options for these elements will be supplied later.\n",
      "    4. Unlike humans, for typing (e.g., in text areas, text boxes) and selecting (e.g., from dropdown menus or <select> elements), you should try directly typing the input or selecting the choice, bypassing the need for an initial click. \n",
      "    5. You should not attempt to create accounts, log in or do the final submission. \n",
      "    6. Terminate when you deem the task complete or if it requires potentially harmful actions.\n",
      "    7. Do not generate same action as the previous one, try different ways if keep failing\n",
      "    8. When there is a floating banner like ads, login, or survey floating taking more than 30% of the page, close the floating banner to proceed, the close button could look like a x on the right top corner, or choose NO THANKS to close it.\n",
      "    9. When there is a floating banner on top or bottom of the page like cookie policy taking less than 30% of the page, ignore the banner to proceed.  \n",
      "    10. After typing text into search or text input area, the next action is normally PRESS ENTER\n",
      "    11. When there are bouding boxes in the screenshot, interact with the elements in the bounding boxes\n",
      "    12. When there are multiple clickable buttons having the same value, choose the one with less obstacles in the screenshot.\n",
      "    \n"
     ]
    }
   ],
   "source": [
    "print(prompts[\"question_description\"])"
   ]
  },
  {
   "cell_type": "code",
   "execution_count": 60,
   "metadata": {},
   "outputs": [],
   "source": [
    "def format_previous_actions_to_str(previous_actions):\n",
    "    # Previous Actions\n",
    "    previous_action_text = \"Previous Actions:\\n\"\n",
    "    if previous_actions is None:\n",
    "        previous_actions = []\n",
    "    for action_text in previous_actions:\n",
    "        previous_action_text += action_text\n",
    "        previous_action_text += \"\\n\"\n",
    "    return previous_action_text"
   ]
  },
  {
   "cell_type": "code",
   "execution_count": 84,
   "metadata": {},
   "outputs": [],
   "source": [
    "await browser.take_screenshot()"
   ]
  },
  {
   "cell_type": "code",
   "execution_count": null,
   "metadata": {},
   "outputs": [],
   "source": [
    "encoded_image = encode_image(browser.screenshot_path)"
   ]
  },
  {
   "cell_type": "code",
   "execution_count": null,
   "metadata": {},
   "outputs": [],
   "source": [
    "\n"
   ]
  },
  {
   "cell_type": "code",
   "execution_count": 114,
   "metadata": {},
   "outputs": [],
   "source": [
    "prompt_human = \\\n",
    "        \"\"\"You are asked to complete the following task: {task}\n",
    "\n",
    "        {previous_actions}\n",
    "\n",
    "        The screenshot below shows the webpage you see. Think step by step before outlining the next action step at the current stage. Clearly outline which element in the webpage users will operate with as the first next target element, its detailed location, and the corresponding operation.\n",
    "\n",
    "        To be successful, it is important to follow the following rules: \n",
    "        1. You should only issue a valid action given the current observation. \n",
    "        2. You should only issue one action at a time\n",
    "        3. For handling the select dropdown elements on the webpage, it's not necessary for you to provide completely accurate options right now. The full list of options for these elements will be supplied later.\n",
    "        4. Unlike humans, for typing (e.g., in text areas, text boxes) and selecting (e.g., from dropdown menus or <select> elements), you should try directly typing the input or selecting the choice, bypassing the need for an initial click. \n",
    "        5. You should not attempt to create accounts, log in or do the final submission. \n",
    "        6. Terminate when you deem the task complete or if it requires potentially harmful actions.\n",
    "        7. Do not generate same action as the previous one, try different ways if keep failing\n",
    "        8. When there is a floating banner like ads, login, or survey floating taking more than 30% of the page, close the floating banner to proceed, the close button could look like a x on the right top corner, or choose NO THANKS to close it.\n",
    "        9. When there is a floating banner on top or bottom of the page like cookie policy taking less than 30% of the page, ignore the banner to proceed.  \n",
    "        10. After typing text into search or text input area, the next action is normally PRESS ENTER\n",
    "        11. When there are bouding boxes in the screenshot, interact with the elements in the bounding boxes\n",
    "        12. When there are multiple clickable buttons having the same value, choose the one with less obstacles in the screenshot.        \n",
    "        \"\"\"\n",
    "\n",
    "# human_message = HumanMessage(\n",
    "#     content=[\n",
    "#         {\"type\": \"text\", \"text\": prompt_human},\n",
    "#         {\n",
    "#             \"type\": \"image_url\",\n",
    "#             \"image_url\": {\"url\": \"data:image/png;base64,{encoded_image}\"},\n",
    "#         },\n",
    "#     ],\n",
    "# )\n",
    "\n",
    "human_message = HumanMessagePromptTemplate.from_template([\n",
    "        {\"type\": \"text\", \"text\": prompt_human},\n",
    "        {\n",
    "            \"type\": \"image_url\",\n",
    "            \"image_url\": {\"url\": \"data:image/png;base64,{encoded_image}\"},\n",
    "        },\n",
    "    ],)\n",
    "\n",
    "\n",
    "prompt_system = \"\"\"You are assisting humans doing web navigation tasks step by step. At each stage, you can see the webpage by a screenshot and know the previous actions before the current step decided by yourself that have been executed for this task through recorded history. You need to decide on the first following action to take.\n",
    "\n",
    "                Here are the descriptions of all allowed actions:\n",
    "\n",
    "                No Value Operations:\n",
    "                - CLICK: Click on a webpage element using the mouse.\n",
    "                - HOVER: Move the mouse over a webpage element without clicking.\n",
    "                - PRESS ENTER: Press the Enter key, typically to submit a form or confirm an input.\n",
    "                - SCROLL UP: Scroll the webpage upwards by half of the window height.\n",
    "                - SCROLL DOWN: Scroll the webpage downwards by half of the window height.\n",
    "                - PRESS HOME: Scroll to the top of the webpage.\n",
    "                - PRESS END: Scroll to the bottom of the webpage.\n",
    "                - PRESS PAGEUP: Scroll up by one window height.\n",
    "                - PRESS PAGEDOWN: Scroll down by one window height.\n",
    "                - CLOSE TAB: Close the current tab in the browser.\n",
    "                - NEW TAB: Open a new tab in the browser.\n",
    "                - GO BACK: Navigate to the previous page in the browser history.\n",
    "                - GO FORWARD: Navigate to the next page in the browser history.\n",
    "                - TERMINATE: End the current task, typically used when the task is considered complete or requires potentially harmful actions.\n",
    "                - NONE: Indicates that no action is necessary at this stage. Used to skip an action or wait.\n",
    "\n",
    "                With Value Operations:\n",
    "                - SELECT: Choose an option from a dropdown menu or <select> element. The value indicates the option to select.\n",
    "                - TYPE: Enter text into a text area or text box. The value is the text to be typed.\n",
    "                - GOTO: Navigate to a specific URL. The value is the URL to navigate to.\n",
    "                - SAY: Output answers or other information you want to tell the user.\n",
    "                - MEMORIZE: Keep some content into action history to memorize it.\n",
    "                \"\"\"\n",
    "\n",
    "system_message = SystemMessagePromptTemplate.from_template([\n",
    "        {\"type\": \"text\", \"text\": prompt_system},\n",
    "    ],)\n",
    "\n",
    "prompts = [system_message,\n",
    "          human_message,]\n",
    "\n",
    "chat_template = ChatPromptTemplate.from_messages(prompts)\n"
   ]
  },
  {
   "cell_type": "code",
   "execution_count": 122,
   "metadata": {},
   "outputs": [],
   "source": [
    "prompt_template = generate_prompt_template()"
   ]
  },
  {
   "cell_type": "code",
   "execution_count": 124,
   "metadata": {},
   "outputs": [],
   "source": [
    "llm_w_prompt = {\"task\": lambda x: x[\"task\"],\n",
    "                \"previous_actions\": lambda x: format_previous_actions_to_str(x[\"previous_actions\"]),\n",
    "                \"encoded_image\": lambda x: None if x[\"encoded_image\"] is None else encode_image(x[\"encoded_image\"])}\\\n",
    "                    | prompt_template | llm"
   ]
  },
  {
   "cell_type": "code",
   "execution_count": 125,
   "metadata": {},
   "outputs": [],
   "source": [
    "result = llm_w_prompt.invoke({\"task\": \"Open a new tab and navigate to 'www.amazon.com'\", \n",
    "                              \"previous_actions\": [],\n",
    "                              \"encoded_image\": browser.screenshot_path})"
   ]
  },
  {
   "cell_type": "code",
   "execution_count": null,
   "metadata": {},
   "outputs": [],
   "source": []
  },
  {
   "cell_type": "code",
   "execution_count": 126,
   "metadata": {},
   "outputs": [
    {
     "name": "stdout",
     "output_type": "stream",
     "text": [
      "The next action is to open a new tab and navigate to 'www.amazon.com'. \n",
      "\n",
      "1. **Action**: NEW TAB\n",
      "\n",
      "After opening the new tab, the next step will be to navigate to the specified URL.\n"
     ]
    }
   ],
   "source": [
    "print(result.content)"
   ]
  },
  {
   "cell_type": "code",
   "execution_count": null,
   "metadata": {},
   "outputs": [],
   "source": []
  },
  {
   "cell_type": "code",
   "execution_count": null,
   "metadata": {},
   "outputs": [
    {
     "name": "stdout",
     "output_type": "stream",
     "text": [
      "To complete the task of opening a new tab and navigating to 'www.amazon.com', the first step is to open a new tab in the browser.\n",
      "\n",
      "**Action:**\n",
      "- **NEW TAB**: Open a new tab in the browser.\n",
      "\n",
      "This action will create a new tab where we can then navigate to the specified URL.\n"
     ]
    }
   ],
   "source": [
    "print(result.content)"
   ]
  },
  {
   "cell_type": "code",
   "execution_count": null,
   "metadata": {},
   "outputs": [],
   "source": []
  },
  {
   "cell_type": "code",
   "execution_count": null,
   "metadata": {},
   "outputs": [],
   "source": []
  },
  {
   "cell_type": "code",
   "execution_count": null,
   "metadata": {},
   "outputs": [],
   "source": []
  },
  {
   "cell_type": "code",
   "execution_count": 61,
   "metadata": {},
   "outputs": [
    {
     "name": "stdout",
     "output_type": "stream",
     "text": [
      "You are assisting humans doing web navigation tasks step by step. At each stage, you can see the webpage by a screenshot and know the previous actions before the current step decided by yourself that have been executed for this task through recorded history. You need to decide on the first following action to take.\n",
      "\n",
      "    Here are the descriptions of all allowed actions:\n",
      "\n",
      "    No Value Operations:\n",
      "    - CLICK: Click on a webpage element using the mouse.\n",
      "    - HOVER: Move the mouse over a webpage element without clicking.\n",
      "    - PRESS ENTER: Press the Enter key, typically to submit a form or confirm an input.\n",
      "    - SCROLL UP: Scroll the webpage upwards by half of the window height.\n",
      "    - SCROLL DOWN: Scroll the webpage downwards by half of the window height.\n",
      "    - PRESS HOME: Scroll to the top of the webpage.\n",
      "    - PRESS END: Scroll to the bottom of the webpage.\n",
      "    - PRESS PAGEUP: Scroll up by one window height.\n",
      "    - PRESS PAGEDOWN: Scroll down by one window height.\n",
      "    - CLOSE TAB: Close the current tab in the browser.\n",
      "    - NEW TAB: Open a new tab in the browser.\n",
      "    - GO BACK: Navigate to the previous page in the browser history.\n",
      "    - GO FORWARD: Navigate to the next page in the browser history.\n",
      "    - TERMINATE: End the current task, typically used when the task is considered complete or requires potentially harmful actions.\n",
      "    - NONE: Indicates that no action is necessary at this stage. Used to skip an action or wait.\n",
      "\n",
      "    With Value Operations:\n",
      "    - SELECT: Choose an option from a dropdown menu or <select> element. The value indicates the option to select.\n",
      "    - TYPE: Enter text into a text area or text box. The value is the text to be typed.\n",
      "    - GOTO: Navigate to a specific URL. The value is the URL to navigate to.\n",
      "    - SAY: Output answers or other information you want to tell the user.\n",
      "    - MEMORIZE: Keep some content into action history to memorize it.\n",
      "    \n"
     ]
    }
   ],
   "source": [
    "print(prompt_maker.generate_prompt(\"{task}\",[\"{previous1}\",\"{previous2}\"],choices)[0])"
   ]
  },
  {
   "cell_type": "code",
   "execution_count": null,
   "metadata": {},
   "outputs": [],
   "source": []
  },
  {
   "cell_type": "code",
   "execution_count": null,
   "metadata": {},
   "outputs": [],
   "source": []
  },
  {
   "cell_type": "code",
   "execution_count": null,
   "metadata": {},
   "outputs": [],
   "source": []
  },
  {
   "cell_type": "code",
   "execution_count": 30,
   "metadata": {},
   "outputs": [],
   "source": [
    "prompts = PromptMaker()._initialize_prompts()"
   ]
  },
  {
   "cell_type": "code",
   "execution_count": 124,
   "metadata": {},
   "outputs": [
    {
     "name": "stdout",
     "output_type": "stream",
     "text": [
      "VALUE: Provide additional input based on ACTION. (If it doesn't\n",
      "involve a value, write \"None\"\n"
     ]
    }
   ],
   "source": [
    "print(\"\\n\".join(textwrap.wrap(PromptMaker()._initialize_prompts()[\"value_format\"])))"
   ]
  },
  {
   "cell_type": "code",
   "execution_count": 20,
   "metadata": {},
   "outputs": [],
   "source": [
    "task = \"{task}\"\n",
    "previous_actions = [\"{previous_actions1}\", \"{previous_actions2}\"]\n",
    "choices = [\"{choice1}\", \"{choice2}\"]"
   ]
  },
  {
   "cell_type": "code",
   "execution_count": 194,
   "metadata": {},
   "outputs": [],
   "source": [
    "choices"
   ]
  },
  {
   "cell_type": "code",
   "execution_count": 43,
   "metadata": {},
   "outputs": [],
   "source": [
    "from typing import List, Optional"
   ]
  },
  {
   "cell_type": "code",
   "execution_count": null,
   "metadata": {},
   "outputs": [],
   "source": [
    "{\"task\": x[\"task\"],\n",
    "    \"previous_actions\": lambda x: format_log_to_str(x[\"previous_actions\"]),}"
   ]
  },
  {
   "cell_type": "code",
   "execution_count": 44,
   "metadata": {},
   "outputs": [],
   "source": [
    "def generate_chat_message(task: str, \n",
    "                          previous_actions: Optional[List[str]]=None, \n",
    "                          choices: Optional[List[str]]=None) -> ChatPromptTemplate:\n",
    "    prompts = PromptMaker()._initialize_prompts()\n",
    "\n",
    "    \n",
    "    system_prompt_input = prompts[\"system_prompt\"]\n",
    "    action_space_input = prompts[\"action_space\"]\n",
    "    question_description_input = prompts[\"question_description\"]\n",
    "    referring_input = prompts[\"referring_description\"]\n",
    "    element_format_input = prompts[\"element_format\"]\n",
    "    action_format_input = prompts[\"action_format\"]\n",
    "    value_format_input = prompts[\"value_format\"]\n",
    "\n",
    "    prompts = generate_new_query_prompt(system_prompt=system_prompt_input + \"\\n\" + action_space_input, \n",
    "                                        task=task, \n",
    "                                        previous_actions=previous_actions,\n",
    "                                        question_description=question_description_input)\n",
    "    \n",
    "    prompts = [\n",
    "               (\"system\", prompts[0]),\n",
    "               (\"human\", prompts[1]),\n",
    "            ]\n",
    "    if choices is not None and len(choices)>0:\n",
    "        prompts.append((\"ai\", generate_new_referring_prompt(referring_description=referring_input, \n",
    "                        element_format=element_format_input, \n",
    "                        action_format=action_format_input,\n",
    "                        value_format=value_format_input,\n",
    "                        choices=choices)))\n",
    "    \n",
    "\n",
    "    chat_template = ChatPromptTemplate.from_messages(prompts)\n",
    "    return chat_template"
   ]
  },
  {
   "cell_type": "code",
   "execution_count": null,
   "metadata": {},
   "outputs": [],
   "source": []
  },
  {
   "cell_type": "code",
   "execution_count": 45,
   "metadata": {},
   "outputs": [
    {
     "data": {
      "text/plain": [
       "ChatPromptTemplate(input_variables=[], messages=[SystemMessagePromptTemplate(prompt=PromptTemplate(input_variables=[], template='You are assisting humans doing web navigation tasks step by step. At each stage, you can see the webpage by a screenshot and know the previous actions before the current step decided by yourself that have been executed for this task through recorded history. You need to decide on the first following action to take.\\n\\n    Here are the descriptions of all allowed actions:\\n\\n    No Value Operations:\\n    - CLICK: Click on a webpage element using the mouse.\\n    - HOVER: Move the mouse over a webpage element without clicking.\\n    - PRESS ENTER: Press the Enter key, typically to submit a form or confirm an input.\\n    - SCROLL UP: Scroll the webpage upwards by half of the window height.\\n    - SCROLL DOWN: Scroll the webpage downwards by half of the window height.\\n    - PRESS HOME: Scroll to the top of the webpage.\\n    - PRESS END: Scroll to the bottom of the webpage.\\n    - PRESS PAGEUP: Scroll up by one window height.\\n    - PRESS PAGEDOWN: Scroll down by one window height.\\n    - CLOSE TAB: Close the current tab in the browser.\\n    - NEW TAB: Open a new tab in the browser.\\n    - GO BACK: Navigate to the previous page in the browser history.\\n    - GO FORWARD: Navigate to the next page in the browser history.\\n    - TERMINATE: End the current task, typically used when the task is considered complete or requires potentially harmful actions.\\n    - NONE: Indicates that no action is necessary at this stage. Used to skip an action or wait.\\n\\n    With Value Operations:\\n    - SELECT: Choose an option from a dropdown menu or <select> element. The value indicates the option to select.\\n    - TYPE: Enter text into a text area or text box. The value is the text to be typed.\\n    - GOTO: Navigate to a specific URL. The value is the URL to navigate to.\\n    - SAY: Output answers or other information you want to tell the user.\\n    - MEMORIZE: Keep some content into action history to memorize it.\\n    ')), HumanMessagePromptTemplate(prompt=PromptTemplate(input_variables=[], template='You are asked to complete the following task: open a tab and go to the site \"www.amazon.com\"\\n\\nPrevious Actions:\\n\\nThe screenshot below shows the webpage you see. Think step by step before outlining the next action step at the current stage. Clearly outline which element in the webpage users will operate with as the first next target element, its detailed location, and the corresponding operation.\\n\\n    To be successful, it is important to follow the following rules: \\n    1. You should only issue a valid action given the current observation. \\n    2. You should only issue one action at a time\\n    3. For handling the select dropdown elements on the webpage, it\\'s not necessary for you to provide completely accurate options right now. The full list of options for these elements will be supplied later.\\n    4. Unlike humans, for typing (e.g., in text areas, text boxes) and selecting (e.g., from dropdown menus or <select> elements), you should try directly typing the input or selecting the choice, bypassing the need for an initial click. \\n    5. You should not attempt to create accounts, log in or do the final submission. \\n    6. Terminate when you deem the task complete or if it requires potentially harmful actions.\\n    7. Do not generate same action as the previous one, try different ways if keep failing\\n    8. When there is a floating banner like ads, login, or survey floating taking more than 30% of the page, close the floating banner to proceed, the close button could look like a x on the right top corner, or choose NO THANKS to close it.\\n    9. When there is a floating banner on top or bottom of the page like cookie policy taking less than 30% of the page, ignore the banner to proceed.  \\n    10. After typing text into search or text input area, the next action is normally PRESS ENTER\\n    11. When there are bouding boxes in the screenshot, interact with the elements in the bounding boxes\\n    12. When there are multiple clickable buttons having the same value, choose the one with less obstacles in the screenshot.\\n    '))])"
      ]
     },
     "execution_count": 45,
     "metadata": {},
     "output_type": "execute_result"
    }
   ],
   "source": [
    "generate_chat_message()"
   ]
  },
  {
   "cell_type": "code",
   "execution_count": null,
   "metadata": {},
   "outputs": [],
   "source": []
  },
  {
   "cell_type": "code",
   "execution_count": null,
   "metadata": {},
   "outputs": [],
   "source": []
  },
  {
   "cell_type": "code",
   "execution_count": 191,
   "metadata": {},
   "outputs": [],
   "source": [
    "task = \"task\"\n",
    "previous_actions = [\"previous_actions1\", \"previous_actions2\"]\n",
    "choices = None#[\"choice1\", \"choice2\"]"
   ]
  },
  {
   "cell_type": "code",
   "execution_count": null,
   "metadata": {},
   "outputs": [],
   "source": [
    "{}"
   ]
  },
  {
   "cell_type": "code",
   "execution_count": 193,
   "metadata": {},
   "outputs": [
    {
     "data": {
      "text/plain": [
       "[SystemMessage(content='You are assisting humans doing web navigation tasks step by step. At each stage, you can see the webpage by a screenshot and know the previous actions before the current step decided by yourself that have been executed for this task through recorded history. You need to decide on the first following action to take.\\n\\n    Here are the descriptions of all allowed actions:\\n\\n    No Value Operations:\\n    - CLICK: Click on a webpage element using the mouse.\\n    - HOVER: Move the mouse over a webpage element without clicking.\\n    - PRESS ENTER: Press the Enter key, typically to submit a form or confirm an input.\\n    - SCROLL UP: Scroll the webpage upwards by half of the window height.\\n    - SCROLL DOWN: Scroll the webpage downwards by half of the window height.\\n    - PRESS HOME: Scroll to the top of the webpage.\\n    - PRESS END: Scroll to the bottom of the webpage.\\n    - PRESS PAGEUP: Scroll up by one window height.\\n    - PRESS PAGEDOWN: Scroll down by one window height.\\n    - CLOSE TAB: Close the current tab in the browser.\\n    - NEW TAB: Open a new tab in the browser.\\n    - GO BACK: Navigate to the previous page in the browser history.\\n    - GO FORWARD: Navigate to the next page in the browser history.\\n    - TERMINATE: End the current task, typically used when the task is considered complete or requires potentially harmful actions.\\n    - NONE: Indicates that no action is necessary at this stage. Used to skip an action or wait.\\n\\n    With Value Operations:\\n    - SELECT: Choose an option from a dropdown menu or <select> element. The value indicates the option to select.\\n    - TYPE: Enter text into a text area or text box. The value is the text to be typed.\\n    - GOTO: Navigate to a specific URL. The value is the URL to navigate to.\\n    - SAY: Output answers or other information you want to tell the user.\\n    - MEMORIZE: Keep some content into action history to memorize it.\\n    '),\n",
       " HumanMessage(content=\"You are asked to complete the following task: task\\n\\nPrevious Actions:\\nprevious_actions1\\nprevious_actions2\\n\\nThe screenshot below shows the webpage you see. Think step by step before outlining the next action step at the current stage. Clearly outline which element in the webpage users will operate with as the first next target element, its detailed location, and the corresponding operation.\\n\\n    To be successful, it is important to follow the following rules: \\n    1. You should only issue a valid action given the current observation. \\n    2. You should only issue one action at a time\\n    3. For handling the select dropdown elements on the webpage, it's not necessary for you to provide completely accurate options right now. The full list of options for these elements will be supplied later.\\n    4. Unlike humans, for typing (e.g., in text areas, text boxes) and selecting (e.g., from dropdown menus or <select> elements), you should try directly typing the input or selecting the choice, bypassing the need for an initial click. \\n    5. You should not attempt to create accounts, log in or do the final submission. \\n    6. Terminate when you deem the task complete or if it requires potentially harmful actions.\\n    7. Do not generate same action as the previous one, try different ways if keep failing\\n    8. When there is a floating banner like ads, login, or survey floating taking more than 30% of the page, close the floating banner to proceed, the close button could look like a x on the right top corner, or choose NO THANKS to close it.\\n    9. When there is a floating banner on top or bottom of the page like cookie policy taking less than 30% of the page, ignore the banner to proceed.  \\n    10. After typing text into search or text input area, the next action is normally PRESS ENTER\\n    11. When there are bouding boxes in the screenshot, interact with the elements in the bounding boxes\\n    12. When there are multiple clickable buttons having the same value, choose the one with less obstacles in the screenshot.\\n    \")]"
      ]
     },
     "execution_count": 193,
     "metadata": {},
     "output_type": "execute_result"
    }
   ],
   "source": [
    "generate_chat_message(task,previous_actions,choices).format_messages()"
   ]
  },
  {
   "cell_type": "code",
   "execution_count": null,
   "metadata": {},
   "outputs": [],
   "source": []
  },
  {
   "cell_type": "code",
   "execution_count": null,
   "metadata": {},
   "outputs": [],
   "source": []
  },
  {
   "cell_type": "code",
   "execution_count": 142,
   "metadata": {},
   "outputs": [
    {
     "data": {
      "text/plain": [
       "[]"
      ]
     },
     "execution_count": 142,
     "metadata": {},
     "output_type": "execute_result"
    }
   ],
   "source": [
    "choices"
   ]
  },
  {
   "cell_type": "code",
   "execution_count": 144,
   "metadata": {},
   "outputs": [
    {
     "data": {
      "text/plain": [
       "['Find the pdf of the paper \"GPT-4V(ision) is a Generalist Web Agent, if Grounded\"']"
      ]
     },
     "execution_count": 144,
     "metadata": {},
     "output_type": "execute_result"
    }
   ],
   "source": [
    "prompt_maker.tasks"
   ]
  },
  {
   "cell_type": "code",
   "execution_count": 143,
   "metadata": {},
   "outputs": [],
   "source": [
    "\n",
    "task = prompt_maker.tasks[-1]\n",
    "task = 'open a tab and go to the site \"www.amazon.com\"'"
   ]
  },
  {
   "cell_type": "code",
   "execution_count": 145,
   "metadata": {},
   "outputs": [],
   "source": [
    "prompt = prompt_maker.generate_prompt(task, None, choices=choices)"
   ]
  },
  {
   "cell_type": "code",
   "execution_count": 146,
   "metadata": {},
   "outputs": [
    {
     "data": {
      "text/plain": [
       "['You are assisting humans doing web navigation tasks step by step. At each stage, you can see the webpage by a screenshot and know the previous actions before the current step decided by yourself that have been executed for this task through recorded history. You need to decide on the first following action to take.\\n\\n    Here are the descriptions of all allowed actions:\\n\\n    No Value Operations:\\n    - CLICK: Click on a webpage element using the mouse.\\n    - HOVER: Move the mouse over a webpage element without clicking.\\n    - PRESS ENTER: Press the Enter key, typically to submit a form or confirm an input.\\n    - SCROLL UP: Scroll the webpage upwards by half of the window height.\\n    - SCROLL DOWN: Scroll the webpage downwards by half of the window height.\\n    - PRESS HOME: Scroll to the top of the webpage.\\n    - PRESS END: Scroll to the bottom of the webpage.\\n    - PRESS PAGEUP: Scroll up by one window height.\\n    - PRESS PAGEDOWN: Scroll down by one window height.\\n    - CLOSE TAB: Close the current tab in the browser.\\n    - NEW TAB: Open a new tab in the browser.\\n    - GO BACK: Navigate to the previous page in the browser history.\\n    - GO FORWARD: Navigate to the next page in the browser history.\\n    - TERMINATE: End the current task, typically used when the task is considered complete or requires potentially harmful actions.\\n    - NONE: Indicates that no action is necessary at this stage. Used to skip an action or wait.\\n\\n    With Value Operations:\\n    - SELECT: Choose an option from a dropdown menu or <select> element. The value indicates the option to select.\\n    - TYPE: Enter text into a text area or text box. The value is the text to be typed.\\n    - GOTO: Navigate to a specific URL. The value is the URL to navigate to.\\n    - SAY: Output answers or other information you want to tell the user.\\n    - MEMORIZE: Keep some content into action history to memorize it.\\n    ',\n",
       " 'You are asked to complete the following task: open a tab and go to the site \"www.amazon.com\"\\n\\nPrevious Actions:\\n\\nThe screenshot below shows the webpage you see. Think step by step before outlining the next action step at the current stage. Clearly outline which element in the webpage users will operate with as the first next target element, its detailed location, and the corresponding operation.\\n\\n    To be successful, it is important to follow the following rules: \\n    1. You should only issue a valid action given the current observation. \\n    2. You should only issue one action at a time\\n    3. For handling the select dropdown elements on the webpage, it\\'s not necessary for you to provide completely accurate options right now. The full list of options for these elements will be supplied later.\\n    4. Unlike humans, for typing (e.g., in text areas, text boxes) and selecting (e.g., from dropdown menus or <select> elements), you should try directly typing the input or selecting the choice, bypassing the need for an initial click. \\n    5. You should not attempt to create accounts, log in or do the final submission. \\n    6. Terminate when you deem the task complete or if it requires potentially harmful actions.\\n    7. Do not generate same action as the previous one, try different ways if keep failing\\n    8. When there is a floating banner like ads, login, or survey floating taking more than 30% of the page, close the floating banner to proceed, the close button could look like a x on the right top corner, or choose NO THANKS to close it.\\n    9. When there is a floating banner on top or bottom of the page like cookie policy taking less than 30% of the page, ignore the banner to proceed.  \\n    10. After typing text into search or text input area, the next action is normally PRESS ENTER\\n    11. When there are bouding boxes in the screenshot, interact with the elements in the bounding boxes\\n    12. When there are multiple clickable buttons having the same value, choose the one with less obstacles in the screenshot.\\n    ',\n",
       " '(Reiteration)\\n    First, reiterate your next target element, its detailed location, and the corresponding operation.\\n\\n    (Multichoice Question)\\n    Below is a multi-choice question, where the choices are elements in the webpage. All elements are arranged in the order based on their height on the webpage, from top to bottom (and from left to right). This arrangement in addition to the normalized coordinates can be used to locate them. From the screenshot, find out where and what each one is on the webpage, taking into account both their text content and HTML details. Then, determine whether one matches your target element if your action involves an element. Please examine the choices one by one. Choose the matching one. If multiple options match your answer, choose the most likely one by re-examining the screenshot, the choices, and your further reasoning.\\n\\n(Final Answer)\\n    Finally, conclude your answer using the format below. Ensure your answer is strictly adhering to the format provided below. Please do not leave any explanation in your answers of the final standardized format part, and this final part should be clear and certain. The element choice, action, and value should be in three separate lines.\\n\\n    Format:\\n\\n    ELEMENT: The uppercase letter of your choice.\\n\\nACTION: Choose an action from allowed actions.\\n\\nVALUE: Provide additional input based on ACTION. (If it doesn\\'t involve a value, write \"None\"']"
      ]
     },
     "execution_count": 146,
     "metadata": {},
     "output_type": "execute_result"
    }
   ],
   "source": [
    "prompt"
   ]
  },
  {
   "cell_type": "code",
   "execution_count": 109,
   "metadata": {},
   "outputs": [],
   "source": [
    "await browser.take_screenshot()"
   ]
  },
  {
   "cell_type": "code",
   "execution_count": 110,
   "metadata": {},
   "outputs": [],
   "source": [
    "encoded_image = encode_image(browser.screenshot_path)"
   ]
  },
  {
   "cell_type": "code",
   "execution_count": 147,
   "metadata": {},
   "outputs": [
    {
     "data": {
      "text/plain": [
       "SystemMessage(content=[{'type': 'text', 'text': 'You are assisting humans doing web navigation tasks step by step. At each stage, you can see the webpage by a screenshot and know the previous actions before the current step decided by yourself that have been executed for this task through recorded history. You need to decide on the first following action to take.\\n\\n    Here are the descriptions of all allowed actions:\\n\\n    No Value Operations:\\n    - CLICK: Click on a webpage element using the mouse.\\n    - HOVER: Move the mouse over a webpage element without clicking.\\n    - PRESS ENTER: Press the Enter key, typically to submit a form or confirm an input.\\n    - SCROLL UP: Scroll the webpage upwards by half of the window height.\\n    - SCROLL DOWN: Scroll the webpage downwards by half of the window height.\\n    - PRESS HOME: Scroll to the top of the webpage.\\n    - PRESS END: Scroll to the bottom of the webpage.\\n    - PRESS PAGEUP: Scroll up by one window height.\\n    - PRESS PAGEDOWN: Scroll down by one window height.\\n    - CLOSE TAB: Close the current tab in the browser.\\n    - NEW TAB: Open a new tab in the browser.\\n    - GO BACK: Navigate to the previous page in the browser history.\\n    - GO FORWARD: Navigate to the next page in the browser history.\\n    - TERMINATE: End the current task, typically used when the task is considered complete or requires potentially harmful actions.\\n    - NONE: Indicates that no action is necessary at this stage. Used to skip an action or wait.\\n\\n    With Value Operations:\\n    - SELECT: Choose an option from a dropdown menu or <select> element. The value indicates the option to select.\\n    - TYPE: Enter text into a text area or text box. The value is the text to be typed.\\n    - GOTO: Navigate to a specific URL. The value is the URL to navigate to.\\n    - SAY: Output answers or other information you want to tell the user.\\n    - MEMORIZE: Keep some content into action history to memorize it.\\n    '}])"
      ]
     },
     "execution_count": 147,
     "metadata": {},
     "output_type": "execute_result"
    }
   ],
   "source": [
    "system_message"
   ]
  },
  {
   "cell_type": "code",
   "execution_count": 148,
   "metadata": {},
   "outputs": [],
   "source": [
    "\n",
    "chat_template = ChatPromptTemplate.from_messages(\n",
    "    [\n",
    "        (\"system\", \"You are a helpful AI bot. Your name is {name}.\"),\n",
    "        (\"human\", \"Hello, how are you doing?\"),\n",
    "        (\"ai\", \"I'm doing well, thanks!\"),\n",
    "        (\"human\", \"{user_input}\"),\n",
    "    ]\n",
    ")"
   ]
  },
  {
   "cell_type": "code",
   "execution_count": 153,
   "metadata": {},
   "outputs": [],
   "source": [
    "chain = chat_template | llm"
   ]
  },
  {
   "cell_type": "code",
   "execution_count": null,
   "metadata": {},
   "outputs": [],
   "source": [
    "ch"
   ]
  },
  {
   "cell_type": "code",
   "execution_count": 155,
   "metadata": {},
   "outputs": [
    {
     "data": {
      "text/plain": [
       "AIMessage(content=\"I wish I could help with that! While I can't physically get you a cup of coffee, I can certainly help you with tips on making a great cup or finding a good coffee shop nearby. What do you need?\", additional_kwargs={'refusal': None}, response_metadata={'token_usage': {'completion_tokens': 44, 'prompt_tokens': 56, 'total_tokens': 100, 'completion_tokens_details': {'reasoning_tokens': 0}}, 'model_name': 'gpt-4o-2024-05-13', 'system_fingerprint': 'fp_25624ae3a5', 'finish_reason': 'stop', 'logprobs': None}, id='run-8f51c591-dbea-4760-a786-6b7121805845-0', usage_metadata={'input_tokens': 56, 'output_tokens': 44, 'total_tokens': 100})"
      ]
     },
     "execution_count": 155,
     "metadata": {},
     "output_type": "execute_result"
    }
   ],
   "source": [
    "chain.invoke({\"name\": \"Chris\", \"user_input\": \"Great, can you please get me a cup of coffee?\"})"
   ]
  },
  {
   "cell_type": "code",
   "execution_count": null,
   "metadata": {},
   "outputs": [],
   "source": []
  },
  {
   "cell_type": "code",
   "execution_count": 195,
   "metadata": {},
   "outputs": [],
   "source": [
    "system_message = SystemMessage(\n",
    "    content=[\n",
    "        {\"type\": \"text\", \"text\": prompt[0]},\n",
    "    ],\n",
    ")\n",
    "\n",
    "human_message = HumanMessage(\n",
    "    content=[\n",
    "        {\"type\": \"text\", \"text\": prompt[1]},\n",
    "        {\n",
    "            \"type\": \"image_url\",\n",
    "            \"image_url\": {\"url\": f\"data:image/png;base64,{encoded_image}\"},\n",
    "        },\n",
    "    ],\n",
    ")\n",
    "\n",
    "messages = [system_message, human_message]\n",
    "output0 = llm.invoke(messages)"
   ]
  },
  {
   "cell_type": "code",
   "execution_count": 196,
   "metadata": {},
   "outputs": [
    {
     "name": "stdout",
     "output_type": "stream",
     "text": [
      "The current webpage is blank, indicating that no actions have been taken yet. The task is to open a new tab and navigate to \"www.amazon.com\".\n",
      "\n",
      "The next action is to open a new tab.\n",
      "\n",
      "**Action**: NEW TAB\n"
     ]
    }
   ],
   "source": [
    "print(output0.content)"
   ]
  },
  {
   "cell_type": "code",
   "execution_count": 101,
   "metadata": {},
   "outputs": [],
   "source": [
    "system_message = SystemMessage(\n",
    "    content=[\n",
    "        {\"type\": \"text\", \"text\": prompt[0]},\n",
    "    ],\n",
    ")\n",
    "\n",
    "human_message = HumanMessage(\n",
    "    content=[\n",
    "        {\"type\": \"text\", \"text\": prompt[1]},\n",
    "        {\n",
    "            \"type\": \"image_url\",\n",
    "            \"image_url\": {\"url\": f\"data:image/png;base64,{encoded_image}\"},\n",
    "        },\n",
    "        {\"type\": \"text\", \"text\": prompt[2]},\n",
    "    ],\n",
    ")\n",
    "\n",
    "ai_message = AIMessage(\n",
    "    content=[\n",
    "        {\"type\": \"text\", \"text\": output0.content},\n",
    "    ],\n",
    ") \n",
    "\n",
    "messages = [system_message, human_message, ai_message]\n",
    "output = llm.invoke(messages)"
   ]
  },
  {
   "cell_type": "code",
   "execution_count": 102,
   "metadata": {},
   "outputs": [
    {
     "name": "stdout",
     "output_type": "stream",
     "text": [
      "ELEMENT: U\n",
      "\n",
      "ACTION: NEW TAB\n",
      "\n",
      "VALUE: None\n"
     ]
    }
   ],
   "source": [
    "print(output.content)"
   ]
  },
  {
   "cell_type": "code",
   "execution_count": null,
   "metadata": {},
   "outputs": [],
   "source": []
  },
  {
   "cell_type": "code",
   "execution_count": null,
   "metadata": {},
   "outputs": [],
   "source": []
  },
  {
   "cell_type": "code",
   "execution_count": null,
   "metadata": {},
   "outputs": [
    {
     "name": "stdout",
     "output_type": "stream",
     "text": [
      "Based on the provided instructions and the task at hand, the first step is to identify the search functionality on the webpage to look for the paper \"GPT-4V(ision) is a Generalist Web Agent, if Grounded\". \n",
      "\n",
      "Assuming the webpage has a search bar, the next action would be to type the title of the paper into the search bar. If the search bar is not immediately visible, we may need to scroll or navigate to find it.\n",
      "\n",
      "Let's proceed with the following action:\n",
      "\n",
      "**Action**: TYPE\n",
      "**Value**: GPT-4V(ision) is a Generalist Web Agent, if Grounded\n",
      "\n",
      "This action will enter the paper's title into the search bar. If the search bar is not visible, please provide a screenshot or more context so I can adjust the action accordingly.\n"
     ]
    }
   ],
   "source": [
    "print(result.content)"
   ]
  },
  {
   "cell_type": "code",
   "execution_count": null,
   "metadata": {},
   "outputs": [
    {
     "name": "stdout",
     "output_type": "stream",
     "text": [
      "The next step is to type the search query into the search bar. \n",
      "\n",
      "**Action**: TYPE\n",
      "\n",
      "**Value**: \"GPT-4V(ision) is a Generalist Web Agent, if Grounded pdf\"\n"
     ]
    }
   ],
   "source": [
    "print(result.content)"
   ]
  },
  {
   "cell_type": "code",
   "execution_count": null,
   "metadata": {},
   "outputs": [],
   "source": []
  },
  {
   "cell_type": "code",
   "execution_count": null,
   "metadata": {},
   "outputs": [],
   "source": []
  },
  {
   "cell_type": "code",
   "execution_count": null,
   "metadata": {},
   "outputs": [],
   "source": []
  },
  {
   "cell_type": "code",
   "execution_count": null,
   "metadata": {},
   "outputs": [],
   "source": [
    "{\"content\": [{\"type\": \"text\", \"text\": prompt[1]}, \n",
    "            {\"type\": \"image_url\", \"image_url\": {\"url\": image_path,\n",
    "                                                \"detail\": \"high\"},\n",
    "                                                                }]}"
   ]
  },
  {
   "cell_type": "code",
   "execution_count": 12,
   "metadata": {},
   "outputs": [
    {
     "name": "stderr",
     "output_type": "stream",
     "text": [
      "Typed 'Logistic Regression' into element: aria-label=\"Search\" name=\"q\" title=\"Search\"\n"
     ]
    },
    {
     "data": {
      "text/plain": [
       "'[textarea role=\"combobox\"] aria-label=\"Search\" name=\"q\" title=\"Search\" -> TYPE: Logistic Regression'"
      ]
     },
     "execution_count": 12,
     "metadata": {},
     "output_type": "execute_result"
    }
   ],
   "source": [
    "await browser.perform_action(elements[8], \"TYPE\", \"Logistic Regression\")"
   ]
  },
  {
   "cell_type": "code",
   "execution_count": 13,
   "metadata": {},
   "outputs": [],
   "source": [
    "elements = await browser.get_current_page_elements()"
   ]
  },
  {
   "cell_type": "code",
   "execution_count": 16,
   "metadata": {},
   "outputs": [
    {
     "name": "stderr",
     "output_type": "stream",
     "text": [
      "Pressed Enter on element: input value=\"Logistic Regression\" aria-label=\"Search\" name=\"q\" title=\"Search\"\n"
     ]
    },
    {
     "data": {
      "text/plain": [
       "'[textarea role=\"combobox\"] input value=\"Logistic Regression\" aria-label=\"Search\" name=\"q\" title=\"Search\" -> PRESS ENTER'"
      ]
     },
     "execution_count": 16,
     "metadata": {},
     "output_type": "execute_result"
    }
   ],
   "source": [
    "await browser.perform_action(elements[8], \"PRESS ENTER\")"
   ]
  },
  {
   "cell_type": "code",
   "execution_count": 17,
   "metadata": {},
   "outputs": [],
   "source": [
    "elements = await browser.get_current_page_elements()"
   ]
  },
  {
   "cell_type": "code",
   "execution_count": 20,
   "metadata": {},
   "outputs": [],
   "source": [
    "choices = format_choices(elements)\n",
    "options = format_options(choices)"
   ]
  },
  {
   "cell_type": "code",
   "execution_count": 41,
   "metadata": {},
   "outputs": [],
   "source": [
    "llm = ChatOpenAI(\n",
    "    temperature=0,\n",
    "    model=\"gpt-4o\",\n",
    "    stop=[\"\\nObservation\", \"Observation\"]\n",
    ")"
   ]
  },
  {
   "cell_type": "code",
   "execution_count": null,
   "metadata": {},
   "outputs": [],
   "source": []
  },
  {
   "cell_type": "code",
   "execution_count": null,
   "metadata": {},
   "outputs": [],
   "source": []
  },
  {
   "cell_type": "code",
   "execution_count": null,
   "metadata": {},
   "outputs": [],
   "source": []
  },
  {
   "cell_type": "code",
   "execution_count": null,
   "metadata": {},
   "outputs": [],
   "source": [
    "messages = [\n",
    "    (\n",
    "        \"system\",\n",
    "        \"You are a helpful assistant that translates English to French. Translate the user sentence.\",\n",
    "    ),\n",
    "    (\"human\", \"I love programming.\"),\n",
    "]"
   ]
  },
  {
   "cell_type": "code",
   "execution_count": 31,
   "metadata": {},
   "outputs": [
    {
     "name": "stderr",
     "output_type": "stream",
     "text": [
      "Browser context closed.\n"
     ]
    }
   ],
   "source": [
    "await browser.stop()"
   ]
  },
  {
   "cell_type": "code",
   "execution_count": 44,
   "metadata": {},
   "outputs": [],
   "source": [
    "await browser.take_screenshot()"
   ]
  },
  {
   "cell_type": "code",
   "execution_count": 48,
   "metadata": {},
   "outputs": [
    {
     "data": {
      "text/plain": [
       "{'center_point': (0.035, 0.042),\n",
       " 'description': 'About',\n",
       " 'tag_with_role': 'a',\n",
       " 'box_raw': [21, 17, 46.59375, 26],\n",
       " 'box': [21, 17, 67.59375, 43],\n",
       " 'selector': <Locator frame=<Frame name= url='https://www.google.com/'> selector='a >> nth=0'>,\n",
       " 'tag': 'a',\n",
       " 'idx': 0,\n",
       " 'option': 'A'}"
      ]
     },
     "execution_count": 48,
     "metadata": {},
     "output_type": "execute_result"
    }
   ],
   "source": [
    "elements[0]"
   ]
  },
  {
   "cell_type": "code",
   "execution_count": 47,
   "metadata": {},
   "outputs": [
    {
     "data": {
      "text/plain": [
       "<Locator frame=<Frame name= url='https://www.google.com/'> selector='a >> nth=0'>"
      ]
     },
     "execution_count": 47,
     "metadata": {},
     "output_type": "execute_result"
    }
   ],
   "source": [
    "elements[0][\"selector\"]"
   ]
  },
  {
   "cell_type": "code",
   "execution_count": null,
   "metadata": {},
   "outputs": [],
   "source": []
  },
  {
   "cell_type": "code",
   "execution_count": null,
   "metadata": {},
   "outputs": [],
   "source": []
  },
  {
   "cell_type": "code",
   "execution_count": 64,
   "metadata": {},
   "outputs": [],
   "source": [
    "close_context = browser.session_control['context']\n",
    "browser.session_control['context'] = None\n",
    "await close_context.close()"
   ]
  },
  {
   "cell_type": "code",
   "execution_count": 12,
   "metadata": {},
   "outputs": [
    {
     "data": {
      "text/plain": [
       "<Page url='https://www.google.com/'>"
      ]
     },
     "execution_count": 12,
     "metadata": {},
     "output_type": "execute_result"
    }
   ],
   "source": [
    "browser.page"
   ]
  },
  {
   "cell_type": "code",
   "execution_count": null,
   "metadata": {},
   "outputs": [],
   "source": []
  },
  {
   "cell_type": "code",
   "execution_count": null,
   "metadata": {},
   "outputs": [],
   "source": []
  },
  {
   "cell_type": "code",
   "execution_count": null,
   "metadata": {},
   "outputs": [],
   "source": []
  },
  {
   "cell_type": "code",
   "execution_count": null,
   "metadata": {},
   "outputs": [],
   "source": []
  },
  {
   "cell_type": "code",
   "execution_count": null,
   "metadata": {},
   "outputs": [],
   "source": []
  },
  {
   "cell_type": "code",
   "execution_count": null,
   "metadata": {},
   "outputs": [],
   "source": []
  },
  {
   "cell_type": "code",
   "execution_count": null,
   "metadata": {},
   "outputs": [],
   "source": []
  },
  {
   "cell_type": "code",
   "execution_count": null,
   "metadata": {},
   "outputs": [],
   "source": []
  },
  {
   "cell_type": "code",
   "execution_count": null,
   "metadata": {},
   "outputs": [],
   "source": []
  },
  {
   "cell_type": "code",
   "execution_count": null,
   "metadata": {},
   "outputs": [],
   "source": []
  },
  {
   "cell_type": "code",
   "execution_count": null,
   "metadata": {},
   "outputs": [],
   "source": []
  },
  {
   "cell_type": "code",
   "execution_count": 2,
   "metadata": {},
   "outputs": [],
   "source": [
    "prompts = _initialize_prompts()"
   ]
  },
  {
   "cell_type": "code",
   "execution_count": null,
   "metadata": {},
   "outputs": [],
   "source": []
  },
  {
   "cell_type": "code",
   "execution_count": 7,
   "metadata": {},
   "outputs": [
    {
     "name": "stdout",
     "output_type": "stream",
     "text": [
      "You are assisting humans doing web navigation tasks step by step. At\n",
      "each stage, you can see the webpage by a screenshot and know the\n",
      "previous actions before the current step decided by yourself that have\n",
      "been executed for this task through recorded history. You need to\n",
      "decide on the first following action to take.\n"
     ]
    }
   ],
   "source": [
    "print(\"\\n\".join(wrap(prompts[\"system_prompt\"])))"
   ]
  },
  {
   "cell_type": "code",
   "execution_count": null,
   "metadata": {},
   "outputs": [],
   "source": []
  },
  {
   "cell_type": "code",
   "execution_count": null,
   "metadata": {},
   "outputs": [],
   "source": []
  },
  {
   "cell_type": "code",
   "execution_count": null,
   "metadata": {},
   "outputs": [],
   "source": []
  },
  {
   "cell_type": "code",
   "execution_count": null,
   "metadata": {},
   "outputs": [],
   "source": []
  }
 ],
 "metadata": {
  "kernelspec": {
   "display_name": "myenv311",
   "language": "python",
   "name": "python3"
  },
  "language_info": {
   "codemirror_mode": {
    "name": "ipython",
    "version": 3
   },
   "file_extension": ".py",
   "mimetype": "text/x-python",
   "name": "python",
   "nbconvert_exporter": "python",
   "pygments_lexer": "ipython3",
   "version": "3.11.9"
  }
 },
 "nbformat": 4,
 "nbformat_minor": 2
}
